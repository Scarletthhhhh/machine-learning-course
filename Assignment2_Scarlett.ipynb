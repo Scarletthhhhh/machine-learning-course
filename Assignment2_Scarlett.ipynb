{
 "cells": [
  {
   "cell_type": "markdown",
   "metadata": {},
   "source": [
    "# Assignment 2 - Machine Learning Basics\n",
    "\n",
    "## *Scarlett Hwang*\n",
    "Netid:  *jh608*\n",
    "\n",
    "Github link: *Link to the github repo with your completed assignment*"
   ]
  },
  {
   "cell_type": "markdown",
   "metadata": {},
   "source": [
    "## Learning Objectives:\n",
    "1. Be able to apply basic regression and classification supervised learning techniques to data and evaluate the performance of those methods\n",
    "2. Understand the bias-variance tradeoff and how adjusting model flexibility impacts model selection and the training process"
   ]
  },
  {
   "cell_type": "markdown",
   "metadata": {},
   "source": [
    "# Conceptual Questions"
   ]
  },
  {
   "cell_type": "markdown",
   "metadata": {},
   "source": [
    "## 1\n",
    "**[5 points]**\n",
    "For each part (a) through (d), indicate whether we would generally expect the performance of a flexible statistical learning method to be better or worse than an inflexible method. Justify your answer.\n",
    "\n",
    "1. The sample size $n$ is extremely large, and the number of predictors $p$ is small.\n",
    "2. The number of predictors $p$ is extremely large, and the number of observations $n$ is small.\n",
    "3. The relationship between the predictors and response is highly non-linear.\n",
    "4. The variance of the error terms, i.e. $\\sigma^2 = Var(\\epsilon)$, is extremely high"
   ]
  },
  {
   "cell_type": "markdown",
   "metadata": {},
   "source": [
    "**ANSWER**\n",
    "\n",
    "1. Flexible statistical learning would be better, because large size of observations will make the overfitting chance decreased.\n",
    "2. Flexible statistical learning would be worse, small size of obeservations make a higher probability of overfitting.\n",
    "3. Flexible statistical learning would be better, it has higher degree of freedom.\n",
    "4. Flexible statistical learning would be worse, when variance of the error terms is too high, flexible methods would fit the noise."
   ]
  },
  {
   "cell_type": "markdown",
   "metadata": {},
   "source": [
    "## 2\n",
    "**[5 points]** For each of the following, (i) explain if each scenario is a classification or regression problem, (ii) indicate whether we are most interested in inference or prediction for that problem, and (iii) provide the sample size $n$ and number of predictors $p$ indicated for each scenario.\n",
    "\n",
    "**(a)** We collect a set of data on the top 500 firms in the US. For each firm we record profit, number of employees, industry and the CEO salary. We are interested in understanding which factors affect CEO salary.\n",
    "\n",
    "**(b)** We are considering launching a new product and wish to know whether it will be a success or a failure. We collect data on 20 similar products that were previously launched. For each product we have recorded whether it was a success or failure, price charged for the product, marketing budget, competition price, and ten other variables.\n",
    "\n",
    "**(c)** We are interesting in predicting the % change in the US dollar in relation to the weekly changes in the world stock markets. Hence we collect weekly data for all of 2012. For each week we record the % change in the dollar, the % change in the US market, the % change in the British market, and the % change in the German market."
   ]
  },
  {
   "cell_type": "markdown",
   "metadata": {},
   "source": [
    "**ANSWER**"
   ]
  },
  {
   "cell_type": "markdown",
   "metadata": {},
   "source": [
    "(a)\n",
    "(1) Regression, dpendent variable is contiunous\n",
    "(2) Inference, we want to know the relationship between salary and independent variables.\n",
    "(3) n = 500, p = 3\n",
    "\n",
    "\n",
    "(b)\n",
    "(1) Classification, output variable is binary.\n",
    "(2) Prediction, we'd like to know whether it would be success or failure.\n",
    "(3) n = 20, p = 13\n",
    "\n",
    "(c)\n",
    "(1) Regression, the outcome variable is continuous.\n",
    "(2) Prediction, we want to predict the percentage of change.\n",
    "(3) n = 52, p =3"
   ]
  },
  {
   "cell_type": "markdown",
   "metadata": {},
   "source": [
    "# Practical Questions"
   ]
  },
  {
   "cell_type": "markdown",
   "metadata": {},
   "source": [
    "## 3\n",
    "**[20 points] Classification I: Creating a classification algorithm**.\n",
    "\n",
    "**(a)** Build a working version of a binary kNN classifier using the skeleton code below.\n",
    "\n",
    "**(b)** Load the datasets to be evaluated here. Each includes training features ($\\mathbf{X}$), and test features ($\\mathbf{y}$) for both a low dimensional ($p = 2$ features/predictors) and a high dimensional ($p = 100$ features/predictors). For each of these datasets there are $n=100$ observations of each. They can be found in the `data` subfolder in the `assignments` folder on github. Each file is labeled similar to `A2_X_train_low.csv`, which lets you know whether the dataset is of features, $X$, targets, $y$; training or testing; and low or high dimensions.\n",
    "\n",
    "**(c)** Train your classifier on first the low dimensional dataset and then the high dimensional dataset with $k=5$. Evaluate the classification performance on the corresponding test data for each. Calculate the time it takes to make the predictions in each case and the overall accuracy of each set of test data predictions.\n",
    "\n",
    "**(d)** Compare your implementation's accuracy and computation time to the scikit learn [KNeighborsClassifier](http://scikit-learn.org/stable/modules/generated/sklearn.neighbors.KNeighborsClassifier.html) class. How do the results and speed compare?\n",
    "\n",
    "**(e)** Some supervised learning algorithms are more computationally intensive during training than testing. What are the drawbacks of the prediction process being slow?"
   ]
  },
  {
   "cell_type": "markdown",
   "metadata": {},
   "source": [
    "**ANSWER**:"
   ]
  },
  {
   "cell_type": "code",
   "execution_count": 100,
   "metadata": {},
   "outputs": [],
   "source": [
    "# (a)\n",
    "# This question was too difficult, so I asked for the help of other classmates, coworked, and tried to understand the logic.\n",
    "import numpy as np\n",
    "from scipy.spatial.distance import cdist\n",
    "\n",
    "class Knn:\n",
    "    def __init__(self):\n",
    "        self.x = None\n",
    "        self.y = None\n",
    "        \n",
    "    def fit(self, x, y):\n",
    "        self.x = x\n",
    "        self.y = y\n",
    "\n",
    "    from scipy.spatial.distance import cdist\n",
    "    def predict(self, x, k):\n",
    "        result = [] \n",
    "        for i in range(x.shape[0]):\n",
    "            tmp = np.array(x.iloc[i,:]).reshape(1,-1)\n",
    "            dist = cdist(self.x, tmp,'euclidean')\n",
    "            y_hat.append(self.y.iloc[dist.argsort(axis = 0)[:k].flatten(),0].mode()[0])\n",
    "        return result\n",
    "    \n",
    "    def predict_manul(self, x, k):\n",
    "        result = [] \n",
    "        for i in range(x.shape[0]):\n",
    "            tmp = np.array(x.iloc[i,:])\n",
    "            #calculate the distance\n",
    "            dist = np.tile(tmp, x.shape[0]).reshape([x.shape[0],x.shape[1]])\n",
    "            dist = (dist - self.x)**2\n",
    "            dist = (np.sum(dist, axis = 1))**0.5\n",
    "\n",
    "            result.append(self.y.iloc[dist.argsort(axis = 0)[:k],0].mode()[0])\n",
    "        return result\n",
    "\n",
    "def accuracy(y,result):\n",
    "    nvalues = len(y)\n",
    "    same = 0\n",
    "    for i in range(len(result)):\n",
    "        if result[i] == y[i]:\n",
    "            same += 1        \n",
    "    accuracy = same / nvalues\n",
    "    return accuracy"
   ]
  },
  {
   "cell_type": "code",
   "execution_count": 101,
   "metadata": {},
   "outputs": [],
   "source": [
    "# (b) load the datasets\n",
    "import pandas as pd\n",
    "A2_x_test_low = pd.read_csv('data/A2_X_test_low.csv', header = None)\n",
    "A2_x_train_low = pd.read_csv('data/A2_X_train_low.csv',header = None)\n",
    "A2_y_test_low = pd.read_csv('data/A2_y_test_low.csv',header = None)\n",
    "A2_y_train_low = pd.read_csv('data/A2_y_train_low.csv',header = None)\n",
    "A2_x_test_high = pd.read_csv('data/A2_X_test_high.csv', header = None)\n",
    "A2_x_train_high = pd.read_csv('data/A2_X_train_high.csv',header = None)\n",
    "A2_y_test_high = pd.read_csv('data/A2_y_test_high.csv',header = None)\n",
    "A2_y_train_high = pd.read_csv('data/A2_y_train_high.csv',header = None)"
   ]
  },
  {
   "cell_type": "code",
   "execution_count": 102,
   "metadata": {},
   "outputs": [
    {
     "name": "stdout",
     "output_type": "stream",
     "text": [
      "(c)low-dimensional\n",
      "Time: 1.8932370676193386\n",
      "accuracy: 0.925\n"
     ]
    }
   ],
   "source": [
    "#(c)\n",
    "import time\n",
    "knn_low = Knn()\n",
    "knn_low.fit(A2_x_train_low,A2_y_train_low)\n",
    "k = 5\n",
    "y_low = A2_y_test_low[0].values.ravel()\n",
    "start_low = time.clock()\n",
    "y_hat_low_manul = knn_low.predict_manul(x_test_low, k)\n",
    "\n",
    "time_low = time.clock() - start_low\n",
    "accuracy_low = accuracy(y_low, y_hat_low_manul)\n",
    "print('(c)low-dimensional')\n",
    "print('Time:',time_low)\n",
    "print('accuracy:',accuracy_low)"
   ]
  },
  {
   "cell_type": "code",
   "execution_count": 39,
   "metadata": {},
   "outputs": [
    {
     "name": "stdout",
     "output_type": "stream",
     "text": [
      "(c)high-dimensional\n",
      "Time: 5.252222010894911\n",
      "Accuracy: 0.993\n"
     ]
    }
   ],
   "source": [
    "#(c)\n",
    "import time\n",
    "knn_high = Knn()\n",
    "knn_high.fit(x_train_high,y_train_high)\n",
    "k = 5\n",
    "y_high = y_test_high[0].values.ravel()\n",
    "start_high = time.clock()\n",
    "y_hat_high = knn_high.predict_manul(x_test_high, k)\n",
    "time_high = time.clock() - start_high\n",
    "accuracy_high = accuracy(y_high, y_hat_high)\n",
    "print('(c)high-dimensional')\n",
    "print('Time:',time_high)\n",
    "print('Accuracy:',accuracy_high)"
   ]
  },
  {
   "cell_type": "code",
   "execution_count": 103,
   "metadata": {},
   "outputs": [
    {
     "name": "stdout",
     "output_type": "stream",
     "text": [
      "(d)low-dimension\n",
      "Time: 0.006611285614781082\n",
      "Accuracy: 0.925\n"
     ]
    }
   ],
   "source": [
    "#(d) \n",
    "from sklearn.neighbors import KNeighborsClassifier as KNNClassifier\n",
    "from sklearn.metrics import accuracy_score\n",
    "time_sklearn_low_start = time.clock()\n",
    "neighClassifier = KNNClassifier(n_neighbors=k)\n",
    "#low dimension\n",
    "neighClassifier.fit(A2_x_train_low, A2_y_train_low.values.ravel())\n",
    "y_sk_low = neighClassifier.predict(x_test_low)\n",
    "time_sklearn_low = time.clock() - time_sklearn_low_start\n",
    "accuracy_sklearn_low = accuracy_score(y_pred = y_sk_low, y_true = A2_y_test_low.values.ravel())\n",
    "print('(d)low-dimension')\n",
    "print('Time:',time_sklearn_low)\n",
    "print('Accuracy:',accuracy_sklearn_low)"
   ]
  },
  {
   "cell_type": "code",
   "execution_count": 42,
   "metadata": {},
   "outputs": [
    {
     "name": "stdout",
     "output_type": "stream",
     "text": [
      "(d) high dimension\n",
      "Time: 0.28641964519920293\n",
      "Accuracy: 0.993\n"
     ]
    }
   ],
   "source": [
    "#(d)\n",
    "time_sklearn_high_start = time.clock()\n",
    "#high dimension\n",
    "neighClassifier.fit(A2_x_train_high, A2_y_train_high.values.ravel())\n",
    "y_sk_high = neighClassifier.predict(A2_x_test_high)\n",
    "time_sklearn_high = time.clock() - time_sklearn_high_start\n",
    "accuracy_sklearn_high = accuracy_score(y_pred = y_sk_high, y_true = A2_y_test_high.values.ravel())\n",
    "print('(d) high dimension')\n",
    "print('Time:',time_sklearn_high)\n",
    "print('Accuracy:',accuracy_sklearn_high)"
   ]
  },
  {
   "cell_type": "markdown",
   "metadata": {},
   "source": [
    "(e)\n",
    "prediction process is slow. It takes more time and difficult to test the code.\n",
    "Hardware processing takes more cost."
   ]
  },
  {
   "cell_type": "markdown",
   "metadata": {},
   "source": [
    "## 4\n",
    "**[10 points] Classification II**. The table below provides a training dataset containing six observations ($n=6$), three predictors ($p=3$), and one qualitative response variable.\n",
    "\n",
    "*Table 1. Dataset with $n=6$ observations in $p=3$ dimensions with a categorical response, $y$*\n",
    "\n",
    "| Obs. | $x_1$ | $x_2$ | $x_3$ | $y$   |\n",
    "|------|-------|-------|-------|-------|\n",
    "| **1**| 0     | 3     | 0     | Red   |\n",
    "| **2**| 2     | 0     | 0     | Red   |\n",
    "| **3**| 0     | 1     | 3     | Red   |\n",
    "| **4**| 0     | 1     | 2     | Blue  |\n",
    "| **5**| -1    | 0     | 1     | Blue  |\n",
    "| **6**| 1     | 1     | 1     | Red   |\n",
    "\n",
    "We want to use this dataset to make a prediction for $y$ when $x_1=x_2=x_3=0$ using $K$-nearest neighbors. You are given some code below to get you started.\n",
    "\n",
    "**(a)** Compute the Euclidean distance between each observation and the test point, $x_1=x_2=x_3=0$. Present your answer in a table similar in style to Table 1 with observations 1-6 as the row headers.\n",
    "\n",
    "**(b)** What is our prediction with $K=1$? Why?\n",
    "\n",
    "**(c)** What is our prediction with $K=3$? Why?\n",
    "\n",
    "**(d)** If the Bayes decision boundary (the optimal decision boundary) in this problem is highly nonlinear, then would we expect the *best* value of $K$ to be large or small? Why?"
   ]
  },
  {
   "cell_type": "code",
   "execution_count": 104,
   "metadata": {},
   "outputs": [],
   "source": [
    "import numpy as np\n",
    "\n",
    "X = np.array([[ 0, 3, 0],\n",
    "              [ 2, 0, 0],\n",
    "              [ 0, 1, 3],\n",
    "              [ 0, 1, 2],\n",
    "              [-1, 0, 1],\n",
    "              [ 1, 1, 1]])\n",
    "\n",
    "\n",
    "y = np.array(['r','r','r','b','b','r'])"
   ]
  },
  {
   "cell_type": "markdown",
   "metadata": {},
   "source": [
    "**ANSWER**:"
   ]
  },
  {
   "cell_type": "code",
   "execution_count": 105,
   "metadata": {},
   "outputs": [
    {
     "data": {
      "text/html": [
       "<div>\n",
       "<style scoped>\n",
       "    .dataframe tbody tr th:only-of-type {\n",
       "        vertical-align: middle;\n",
       "    }\n",
       "\n",
       "    .dataframe tbody tr th {\n",
       "        vertical-align: top;\n",
       "    }\n",
       "\n",
       "    .dataframe thead th {\n",
       "        text-align: right;\n",
       "    }\n",
       "</style>\n",
       "<table border=\"1\" class=\"dataframe\">\n",
       "  <thead>\n",
       "    <tr style=\"text-align: right;\">\n",
       "      <th></th>\n",
       "      <th>Dist</th>\n",
       "    </tr>\n",
       "    <tr>\n",
       "      <th>obs</th>\n",
       "      <th></th>\n",
       "    </tr>\n",
       "  </thead>\n",
       "  <tbody>\n",
       "    <tr>\n",
       "      <th>1</th>\n",
       "      <td>3.000000</td>\n",
       "    </tr>\n",
       "    <tr>\n",
       "      <th>2</th>\n",
       "      <td>2.000000</td>\n",
       "    </tr>\n",
       "    <tr>\n",
       "      <th>3</th>\n",
       "      <td>3.162278</td>\n",
       "    </tr>\n",
       "    <tr>\n",
       "      <th>4</th>\n",
       "      <td>2.236068</td>\n",
       "    </tr>\n",
       "    <tr>\n",
       "      <th>5</th>\n",
       "      <td>1.414214</td>\n",
       "    </tr>\n",
       "    <tr>\n",
       "      <th>6</th>\n",
       "      <td>1.732051</td>\n",
       "    </tr>\n",
       "  </tbody>\n",
       "</table>\n",
       "</div>"
      ],
      "text/plain": [
       "         Dist\n",
       "obs          \n",
       "1    3.000000\n",
       "2    2.000000\n",
       "3    3.162278\n",
       "4    2.236068\n",
       "5    1.414214\n",
       "6    1.732051"
      ]
     },
     "execution_count": 105,
     "metadata": {},
     "output_type": "execute_result"
    }
   ],
   "source": [
    "test = np.array([0, 0, 0])\n",
    "\n",
    "\n",
    "dist= pd.DataFrame(np.linalg.norm(test - X, axis = 1, keepdims = True), columns = ['Dist'])\n",
    "dist.index = dist.index +1\n",
    "dist.index.name = 'obs'\n",
    "dist"
   ]
  },
  {
   "cell_type": "code",
   "execution_count": 45,
   "metadata": {},
   "outputs": [
    {
     "name": "stdout",
     "output_type": "stream",
     "text": [
      "when k=1, prediction is b.\n"
     ]
    }
   ],
   "source": [
    "#（b）knn with K = 1\n",
    "\n",
    "\n",
    "knn = KNNClassifier(n_neighbors = 1)\n",
    "knn.fit(X,y)\n",
    "predicted_color = knn.predict(test.reshape(1,-1))\n",
    "print('when k=1, prediction is %s.'% predicted_color[0] )\n"
   ]
  },
  {
   "cell_type": "markdown",
   "metadata": {},
   "source": [
    "When K = 3, the prediction is r(red)"
   ]
  },
  {
   "cell_type": "code",
   "execution_count": 106,
   "metadata": {},
   "outputs": [
    {
     "name": "stdout",
     "output_type": "stream",
     "text": [
      "when k=3, predicted color is r\n"
     ]
    }
   ],
   "source": [
    "#（c）K = 3\n",
    "\n",
    "\n",
    "knn=KNNClassifier(n_neighbors=3)\n",
    "knn.fit(X,y)\n",
    "predicted_color = knn.predict(test.reshape(1,-1))\n",
    "print('when k=3, predicted color is %s' % predicted_color[0])"
   ]
  },
  {
   "cell_type": "markdown",
   "metadata": {},
   "source": [
    "When K = 3, the prediction is r(red)"
   ]
  },
  {
   "cell_type": "markdown",
   "metadata": {},
   "source": [
    "(d) Non-linear model needs flexible methods( if the boundary is nonliner then, the k would be expected to be small.)"
   ]
  },
  {
   "cell_type": "markdown",
   "metadata": {},
   "source": [
    "## 5\n",
    "**[20 points] Bias-variance tradeoff I: Understanding the tradeoff**. This exercise will illustrate the impact of the bias-variance tradeoff on classifier performance by looking at classifier decision boundaries.\n",
    "\n",
    "**(a)** Create a synthetic dataset (with both features and targets). Use the [`make_moons`](http://scikit-learn.org/stable/modules/generated/sklearn.datasets.make_moons.html#sklearn.datasets.make_moons) module with the parameter `noise=0.35` to generate 1000 random samples.\n",
    "\n",
    "**(b)** Scatterplot your random samples with each class in a different color\n",
    "\n",
    "**(c)** Create 3 different data subsets by selecting 100 of the 1000 data points at random three times. For each of these 100-sample datasets, fit three k-Nearest Neighbor classifiers with: $k = \\{1, 25, 50\\}$. This will result in 9 combinations (3 datasets, with 3 trained classifiers).\n",
    "\n",
    "**(d)** For each combination of dataset trained classifier, in a 3-by-3 grid, plot the decision boundary (similar in style to Figure 2.15 from *Introduction to Statistical Learning*). Each column should represent a different value of $k$ and each row should represent a different dataset.\n",
    "\n",
    "**(e)** What do you notice about the difference between the rows and the columns. Which decision boundaries appear to best separate the two classes of data? Which decision boundaries vary the most as the data change?\n",
    "\n",
    "**(f)** Explain the bias-variance tradeoff using the example of the plots you made in this exercise."
   ]
  },
  {
   "cell_type": "markdown",
   "metadata": {},
   "source": [
    "**ANSWER**"
   ]
  },
  {
   "cell_type": "code",
   "execution_count": 107,
   "metadata": {},
   "outputs": [],
   "source": [
    "#（a） \n",
    "from sklearn.datasets import make_moons\n",
    "X, Y = make_moons(n_samples = 1000, noise = 0.35, random_state = 888)"
   ]
  },
  {
   "cell_type": "code",
   "execution_count": 108,
   "metadata": {},
   "outputs": [
    {
     "data": {
      "image/png": "[encoded data removed]",
      "text/plain": [
       "<Figure size 432x288 with 1 Axes>"
      ]
     },
     "metadata": {
      "needs_background": "light"
     },
     "output_type": "display_data"
    }
   ],
   "source": [
    "#(b)\n",
    "import matplotlib.pyplot as plt\n",
    "import seaborn as sns\n",
    "plt.scatter(X[Y== 0][:,0], X[Y== 0][:,1], c = 'r', label = '0')\n",
    "plt.scatter(X[Y == 1][:,0], X[Y == 1][:,1], c = 'y', label = '1')\n",
    "plt.xlabel('x')\n",
    "plt.ylabel('y')\n",
    "plt.title('scatter plot(dataset)')\n",
    "plt.legend()\n",
    "plt.show()"
   ]
  },
  {
   "cell_type": "markdown",
   "metadata": {},
   "source": [
    "## 6\n",
    "**[20 points] Bias-variance trade-off II: Quantifying the tradeoff**. This exercise will explore the impact of the bias-variance tradeoff on classifier performance by looking at classifier decision boundaries.\n",
    "\n",
    "Here, the value of $k$ determines how flexible our model is.\n",
    "\n",
    "**(a)** Using the function created earlier to generate random samples (using the `make_moons` function), create a new set of 1000 random samples, and call this dataset your test set and the previously created dataset your training set.\n",
    "\n",
    "**(b)** Train a kNN classifier on your training set for $k = 1,2,...500$. Apply each of these trained classifiers to both your training dataset and your test dataset and plot the classification error (fraction of mislabeled datapoints).\n",
    "\n",
    "**(c)** What trend do you see in the results?\n",
    "\n",
    "**(d)** What values of $k$ represent high bias and which represent high variance?\n",
    "\n",
    "**(e)** What is the optimal value of $k$ and why?\n",
    "\n",
    "**(f)** In kNN classifiers, the value of k controls the flexibility of the model - what controls the flexibility of other models?"
   ]
  },
  {
   "cell_type": "markdown",
   "metadata": {},
   "source": [
    "**ANSWER**"
   ]
  },
  {
   "cell_type": "code",
   "execution_count": 111,
   "metadata": {},
   "outputs": [],
   "source": [
    "import matplotlib.pyplot as plt\n",
    "from sklearn.datasets import make_moons\n",
    "%matplotlib inline\n"
   ]
  },
  {
   "cell_type": "code",
   "execution_count": 112,
   "metadata": {},
   "outputs": [],
   "source": [
    "# (a)\n",
    "X_train, Y_train = X, Y \n",
    "X_test,Y_test = make_moons(n_samples=1000,noise=0.35)\n",
    "\n"
   ]
  },
  {
   "cell_type": "code",
   "execution_count": 113,
   "metadata": {},
   "outputs": [],
   "source": [
    "#(b) \n",
    "x_errors = range(1,500)\n",
    "y_errors = []\n",
    "for i in range(1,500):\n",
    "    neigh = KNeighborsClassifier(n_neighbors=i)\n",
    "    neigh.fit(X_train,Y_train)\n",
    "    y_hat = neigh.predict(X_test)\n",
    "    y_errors.append(mean_squared_error(Y_test,y_hat))"
   ]
  },
  {
   "cell_type": "code",
   "execution_count": 114,
   "metadata": {},
   "outputs": [
    {
     "data": {
      "text/plain": [
       "<function matplotlib.pyplot.show(*args, **kw)>"
      ]
     },
     "execution_count": 114,
     "metadata": {},
     "output_type": "execute_result"
    },
    {
     "data": {
      "image/png": "[encoded data removed]",
      "text/plain": [
       "<Figure size 432x288 with 1 Axes>"
      ]
     },
     "metadata": {
      "needs_background": "light"
     },
     "output_type": "display_data"
    }
   ],
   "source": [
    "plt.title(\"K Value & Accuracy Rate\")\n",
    "plt.xlabel(\"N neighbors , K Value\")\n",
    "plt.ylabel(\"Accuracy\")\n",
    "plt.plot(x_errors,y_errors) \n",
    "plt.show"
   ]
  },
  {
   "cell_type": "markdown",
   "metadata": {},
   "source": [
    "(c) \n",
    "As the k value increases, the accuracy decreases to a certain point(around 100), and than goes up again.\n"
   ]
  },
  {
   "cell_type": "markdown",
   "metadata": {},
   "source": [
    "(d) What values of k represent high bias and which represent high variance?\n",
    "As K is small, high bias(underfitting).\n",
    "As K is large, high variance(overfitting).\n",
    "\n",
    "(e)The optimal value of K would be in the range of [10,50] which have the lowest error rate."
   ]
  },
  {
   "cell_type": "markdown",
   "metadata": {},
   "source": [
    "(f) In kNN classifiers, the value of k controls the flexibility of the model - what controls the flexibility of other models?\n",
    "\n",
    "For example, In Kmeans model, the number of clusters control the flexibility of the model."
   ]
  },
  {
   "cell_type": "markdown",
   "metadata": {},
   "source": [
    "## 7\n",
    "**[20 points] Linear regression and nonlinear transformations**. You're given a dataset below that is partitioned into a training and testing dataset. Your goal is to develop a regression algorithm from the training data that performs well on the test data.\n",
    "\n",
    "*Hint: Use the scikit learn [LinearRegression](http://scikit-learn.org/stable/modules/generated/sklearn.linear_model.LinearRegression.html) module.*\n",
    "\n",
    "**(a)** Create a scatter plot of your training data.\n",
    "\n",
    "**(b)** Estimate a linear regression model ($y = a_0 + a_1 x$) for the training data and calculate both the $R^2$ value and mean square error for the fit of that model for the training data. Also provide the equation representing the estimated model (e.g. $y = a_0 + a_1 x$, but with the estimated coefficients inserted.\n",
    "\n",
    "**(c)** A linear model does not mean that non-linear relationships cannot be explored. From looking at the scatter plot of the training data, choose a transformation of the predictor variable, $x$ that may make sense for these data. This will be a multiple regression model of the form $y = a_0 + a_1 x_1 + a_2 x_2 + \\ldots + a_n x_n$. Here $x_i$ could be any transformations of x - perhaps it's $\\frac{1}{x}$, $log(x)$, $sin(x)$, $x^k$ (where $k$ is any power of your choosing). Provide the estimated equation for this multiple regression model (e.g. if you chose your predictors to be $x_1 = x$ and $x_2 = log(x)$, your model would be of the form $y = a_0 + a_1 x + a_2 log(x)$. Also provide the $R^2$ and mean square error of the fit for the training data.\n",
    "\n",
    "**(d)** Using both of the models you created here in (b) and (c), plot the original data (as a scatter plot) and the two curves representing your models (each as a separate line).\n",
    "\n",
    "**(e)** Using the models above, apply them to the test data and estimate the $R^2$ and mean square error of the test dataset.\n",
    "\n",
    "**(f)** Which models perform better on the training data, and which on the test data? Why?\n",
    "\n",
    "**(g)** Imagine that the test data were significantly different from the training dataset. How might this affect the predictive capability of your model? Why?"
   ]
  },
  {
   "cell_type": "code",
   "execution_count": 116,
   "metadata": {},
   "outputs": [],
   "source": [
    "x_train = [3.19,9.26,9.38,8.77,7.91,3.79,3.18,7.61,2.36,6.26,6.62,1.53,6.25,7.93,7.07,4.58,4.14,2.14,9.04,4.56,3.99,6.71,2.51,0.84,6.13,5.22,0.25,3.60,1.36,5.59,4.81,1.14,0.36,2.31,1.37,5.86,4.23,9.48,2.26,0.77,4.33]\n",
    "y_train = [46.40,172.16,209.00,203.31,82.88,62.57,14.38,177.00,8.01,82.35,84.84,-5.59,54.96,167.17,83.09,-21.63,94.64,63.97,106.57,38.99,88.26,66.99,-11.12,-0.44,65.08,61.47,-0.61,23.85,10.55,83.69,54.35,51.82,-18.63,1.98,4.90,55.44,50.09,155.66,45.57,18.12,30.58]\n",
    "\n",
    "x_test = [5.65,0.07,8.84,5.14,6.65,1.35,5.45,7.39,3.35]\n",
    "y_test = [98.52,16.09,198.45,75.90,85.11,47.64,14.76,141.03,-39.13]"
   ]
  },
  {
   "cell_type": "markdown",
   "metadata": {},
   "source": [
    "**ANSWER**"
   ]
  },
  {
   "cell_type": "code",
   "execution_count": 117,
   "metadata": {},
   "outputs": [
    {
     "data": {
      "image/png": "[encoded data removed]",
      "text/plain": [
       "<Figure size 432x288 with 1 Axes>"
      ]
     },
     "metadata": {
      "needs_background": "light"
     },
     "output_type": "display_data"
    }
   ],
   "source": [
    "#(a) scatter plot\n",
    "plt.scatter(x_train,y_train)\n",
    "plt.title('scatter plot')\n",
    "plt.xlabel('x')\n",
    "plt.ylabel('y')\n",
    "plt.show()"
   ]
  },
  {
   "cell_type": "code",
   "execution_count": 119,
   "metadata": {},
   "outputs": [
    {
     "name": "stdout",
     "output_type": "stream",
     "text": [
      "regression: y = -21.730783 + 18.303207 * x\n",
      "R-squared: 0.701459\n",
      "The MSE: 1052.585366\n"
     ]
    }
   ],
   "source": [
    "#(b) \n",
    "from sklearn.linear_model import LinearRegression\n",
    "from sklearn.metrics import mean_squared_error\n",
    "\n",
    "\n",
    "regmodel = LinearRegression().fit(np.array(x_train).reshape(-1,1), y_train)\n",
    "print('regression: y = %f + %f * x' % (regmodel.intercept_, regmodel.coef_))\n",
    "print('R-squared: %f' % regmodel.score(np.array(x_train).reshape(-1,1), y_train))\n",
    "print('The MSE: %f' % mean_squared_error(regmodel.predict(np.array(x_train).reshape(-1,1)), y_train))\n"
   ]
  },
  {
   "cell_type": "code",
   "execution_count": 120,
   "metadata": {},
   "outputs": [
    {
     "name": "stdout",
     "output_type": "stream",
     "text": [
      "regression: y = -23.680150 + 25.082805x -23.330631log(x)\n",
      "R-squared: 0.7219455369854199\n",
      "The MSE: 980.3549541792602\n"
     ]
    }
   ],
   "source": [
    "#(c)\n",
    "import math\n",
    "log_x_train = [math.log(x) for x in x_train]\n",
    "log_x_test = [math.log(x) for x in x_test]\n",
    "log_X_train = np.c_[np.array(x_train),np.array(log_x_train)]\n",
    "log_X_test = np.c_[np.array(x_test),np.array(log_x_test)]\n",
    "#fit the model\n",
    "reg_log = LinearRegression().fit(log_X_train,y_train)\n",
    "print('regression: y = %f + %fx %flog(x)'%(reg_log.intercept_, reg_log.coef_[0], reg_log.coef_[1]))\n",
    "print('R-squared:', reg_log.score(log_X_train,y = np.array(y_train).reshape(-1,1)))\n",
    "reg_log_estimate = reg_log.predict(log_X_train)\n",
    "print('The MSE:', mean_squared_error(y_pred = reg_log_estimate, y_true = np.array(y_train).reshape(-1,1)))"
   ]
  },
  {
   "cell_type": "code",
   "execution_count": 74,
   "metadata": {},
   "outputs": [
    {
     "data": {
      "image/png": "[encoded data removed]",
      "text/plain": [
       "<Figure size 432x288 with 1 Axes>"
      ]
     },
     "metadata": {
      "needs_background": "light"
     },
     "output_type": "display_data"
    }
   ],
   "source": [
    "#(d)\n",
    "from sklearn.linear_model import LinearRegression\n",
    "from sklearn.metrics import mean_squared_error\n",
    "reg_model = LinearRegression().fit(np.array(x_train).reshape(-1,1), y_train)\n",
    "\n",
    "plt.scatter(x_train, y_train)\n",
    "plt.title('Scatter plot and fitted curves')\n",
    "x_mesh = np.linspace(min(x_train),max(x_train),200)\n",
    "y_linear = reg_model.intercept_+reg_model.coef_[0]*x_mesh\n",
    "x_train_trans = np.hstack((np.array(x_train).reshape(-1,1), np.square(x_train).reshape(-1,1)))\n",
    "x_test_trans = np.hstack((np.array(x_test).reshape(-1,1), np.square(x_test).reshape(-1,1)))\n",
    "reg_model_trans = LinearRegression().fit(x_train_trans, y_train)\n",
    "y_quadratic = reg_model_trans.intercept_+reg_model_trans.coef_[0]*x_mesh+reg_model_trans.coef_[1]*x_mesh**2\n",
    "plt.plot(x_mesh,y_linear,'r--',label='simple model')\n",
    "plt.plot(x_mesh,y_quadratic,'k:',label='transformed model')\n",
    "plt.xlabel('x')\n",
    "plt.ylabel('y')\n",
    "plt.legend()\n",
    "plt.show()\n",
    "\n"
   ]
  },
  {
   "cell_type": "code",
   "execution_count": 121,
   "metadata": {},
   "outputs": [
    {
     "name": "stdout",
     "output_type": "stream",
     "text": [
      "Simple : R-squared: 0.555647\n",
      "Simple model MSE: 2023.312109\n"
     ]
    }
   ],
   "source": [
    "#(e)\n",
    "print('Simple : R-squared: %f' % reg_model.score(np.array(x_test).reshape(-1,1), y_test))\n",
    "print('Simple model MSE: %f' % mean_squared_error(reg_model.predict(np.array(x_test).reshape(-1,1)), y_test))\n"
   ]
  },
  {
   "cell_type": "code",
   "execution_count": 122,
   "metadata": {},
   "outputs": [
    {
     "name": "stdout",
     "output_type": "stream",
     "text": [
      "Transforemd : R-squared : 0.692782\n",
      "Transformed: MSE : 1398.881758\n"
     ]
    }
   ],
   "source": [
    "#(e)\n",
    "print('Transforemd : R-squared : %f' % reg_model_trans.score(x_test_trans, y_test))\n",
    "print('Transformed: MSE : %f' % mean_squared_error(reg_model_trans.predict(x_test_trans), y_test))\n"
   ]
  },
  {
   "cell_type": "markdown",
   "metadata": {},
   "source": [
    "(f)\n",
    "Transformed performed better, considering R-squared and MSE.\n",
    "Data points are better in the transformed model.\n",
    "\n"
   ]
  },
  {
   "cell_type": "markdown",
   "metadata": {},
   "source": [
    "(g) If the test data was totally different from the training data, the model's predictive capability will be negative.\n"
   ]
  }
 ],
 "metadata": {
  "kernelspec": {
   "display_name": "Python 3",
   "language": "python",
   "name": "python3"
  },
  "language_info": {
   "codemirror_mode": {
    "name": "ipython",
    "version": 3
   },
   "file_extension": ".py",
   "mimetype": "text/x-python",
   "name": "python",
   "nbconvert_exporter": "python",
   "pygments_lexer": "ipython3",
   "version": "3.5.6"
  },
  "varInspector": {
   "cols": {
    "lenName": 16,
    "lenType": 16,
    "lenVar": 40
   },
   "kernels_config": {
    "python": {
     "delete_cmd_postfix": "",
     "delete_cmd_prefix": "del ",
     "library": "var_list.py",
     "varRefreshCmd": "print(var_dic_list())"
    },
    "r": {
     "delete_cmd_postfix": ") ",
     "delete_cmd_prefix": "rm(",
     "library": "var_list.r",
     "varRefreshCmd": "cat(var_dic_list()) "
    }
   },
   "types_to_exclude": [
    "module",
    "function",
    "builtin_function_or_method",
    "instance",
    "_Feature"
   ],
   "window_display": false
  }
 },
 "nbformat": 4,
 "nbformat_minor": 2
}
